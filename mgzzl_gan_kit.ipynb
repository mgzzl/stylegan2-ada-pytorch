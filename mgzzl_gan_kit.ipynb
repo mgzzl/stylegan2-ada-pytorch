{
  "nbformat": 4,
  "nbformat_minor": 0,
  "metadata": {
    "accelerator": "GPU",
    "colab": {
      "name": "heatonresearch_gan_kit.ipynb",
      "provenance": [],
      "collapsed_sections": [],
      "toc_visible": true
    },
    "interpreter": {
      "hash": "57baa5815c940fdaff4d14510622de9616cae602444507ba5d0b6727c008cbd6"
    },
    "kernelspec": {
      "display_name": "Python 3",
      "language": "python",
      "name": "python3"
    },
    "language_info": {
      "codemirror_mode": {
        "name": "ipython",
        "version": 3
      },
      "file_extension": ".py",
      "mimetype": "text/x-python",
      "name": "python",
      "nbconvert_exporter": "python",
      "pygments_lexer": "ipython3",
      "version": "3.8.5"
    },
    "widgets": {
      "application/vnd.jupyter.widget-state+json": {
        "3d42f0b413c44feab2d5609150788b3e": {
          "model_module": "@jupyter-widgets/controls",
          "model_name": "HBoxModel",
          "model_module_version": "1.5.0",
          "state": {
            "_view_name": "HBoxView",
            "_dom_classes": [],
            "_model_name": "HBoxModel",
            "_view_module": "@jupyter-widgets/controls",
            "_model_module_version": "1.5.0",
            "_view_count": null,
            "_view_module_version": "1.5.0",
            "box_style": "",
            "layout": "IPY_MODEL_37d23d943f3443b0846817772668dfa7",
            "_model_module": "@jupyter-widgets/controls",
            "children": [
              "IPY_MODEL_dedf2f10df494932a9f0950c75386553",
              "IPY_MODEL_95a0b2f4b6b649cf9d4a48cc7dcdbb14",
              "IPY_MODEL_f57a742b8ed04f8bb9781a040f9cc2e7"
            ]
          }
        },
        "37d23d943f3443b0846817772668dfa7": {
          "model_module": "@jupyter-widgets/base",
          "model_name": "LayoutModel",
          "model_module_version": "1.2.0",
          "state": {
            "_view_name": "LayoutView",
            "grid_template_rows": null,
            "right": null,
            "justify_content": null,
            "_view_module": "@jupyter-widgets/base",
            "overflow": null,
            "_model_module_version": "1.2.0",
            "_view_count": null,
            "flex_flow": null,
            "width": null,
            "min_width": null,
            "border": null,
            "align_items": null,
            "bottom": null,
            "_model_module": "@jupyter-widgets/base",
            "top": null,
            "grid_column": null,
            "overflow_y": null,
            "overflow_x": null,
            "grid_auto_flow": null,
            "grid_area": null,
            "grid_template_columns": null,
            "flex": null,
            "_model_name": "LayoutModel",
            "justify_items": null,
            "grid_row": null,
            "max_height": null,
            "align_content": null,
            "visibility": null,
            "align_self": null,
            "height": null,
            "min_height": null,
            "padding": null,
            "grid_auto_rows": null,
            "grid_gap": null,
            "max_width": null,
            "order": null,
            "_view_module_version": "1.2.0",
            "grid_template_areas": null,
            "object_position": null,
            "object_fit": null,
            "grid_auto_columns": null,
            "margin": null,
            "display": null,
            "left": null
          }
        },
        "dedf2f10df494932a9f0950c75386553": {
          "model_module": "@jupyter-widgets/controls",
          "model_name": "HTMLModel",
          "model_module_version": "1.5.0",
          "state": {
            "_view_name": "HTMLView",
            "style": "IPY_MODEL_4d698c5079694e369fbe6e424ff4a52a",
            "_dom_classes": [],
            "description": "",
            "_model_name": "HTMLModel",
            "placeholder": "​",
            "_view_module": "@jupyter-widgets/controls",
            "_model_module_version": "1.5.0",
            "value": "100%",
            "_view_count": null,
            "_view_module_version": "1.5.0",
            "description_tooltip": null,
            "_model_module": "@jupyter-widgets/controls",
            "layout": "IPY_MODEL_fdf4c033163f47feabee7109e14c3090"
          }
        },
        "95a0b2f4b6b649cf9d4a48cc7dcdbb14": {
          "model_module": "@jupyter-widgets/controls",
          "model_name": "FloatProgressModel",
          "model_module_version": "1.5.0",
          "state": {
            "_view_name": "ProgressView",
            "style": "IPY_MODEL_8cdc76c7babb4d7d857128f78a4d67a8",
            "_dom_classes": [],
            "description": "",
            "_model_name": "FloatProgressModel",
            "bar_style": "success",
            "max": 150,
            "_view_module": "@jupyter-widgets/controls",
            "_model_module_version": "1.5.0",
            "value": 150,
            "_view_count": null,
            "_view_module_version": "1.5.0",
            "orientation": "horizontal",
            "min": 0,
            "description_tooltip": null,
            "_model_module": "@jupyter-widgets/controls",
            "layout": "IPY_MODEL_3fbe99bc3cf241ad9588c65662de2304"
          }
        },
        "f57a742b8ed04f8bb9781a040f9cc2e7": {
          "model_module": "@jupyter-widgets/controls",
          "model_name": "HTMLModel",
          "model_module_version": "1.5.0",
          "state": {
            "_view_name": "HTMLView",
            "style": "IPY_MODEL_1d6919d7b242463cb41e2dc9f36b6e5b",
            "_dom_classes": [],
            "description": "",
            "_model_name": "HTMLModel",
            "placeholder": "​",
            "_view_module": "@jupyter-widgets/controls",
            "_model_module_version": "1.5.0",
            "value": " 150/150 [01:10&lt;00:00,  2.18it/s]",
            "_view_count": null,
            "_view_module_version": "1.5.0",
            "description_tooltip": null,
            "_model_module": "@jupyter-widgets/controls",
            "layout": "IPY_MODEL_51e44cb241d648d6999b4817769ebb70"
          }
        },
        "4d698c5079694e369fbe6e424ff4a52a": {
          "model_module": "@jupyter-widgets/controls",
          "model_name": "DescriptionStyleModel",
          "model_module_version": "1.5.0",
          "state": {
            "_view_name": "StyleView",
            "_model_name": "DescriptionStyleModel",
            "description_width": "",
            "_view_module": "@jupyter-widgets/base",
            "_model_module_version": "1.5.0",
            "_view_count": null,
            "_view_module_version": "1.2.0",
            "_model_module": "@jupyter-widgets/controls"
          }
        },
        "fdf4c033163f47feabee7109e14c3090": {
          "model_module": "@jupyter-widgets/base",
          "model_name": "LayoutModel",
          "model_module_version": "1.2.0",
          "state": {
            "_view_name": "LayoutView",
            "grid_template_rows": null,
            "right": null,
            "justify_content": null,
            "_view_module": "@jupyter-widgets/base",
            "overflow": null,
            "_model_module_version": "1.2.0",
            "_view_count": null,
            "flex_flow": null,
            "width": null,
            "min_width": null,
            "border": null,
            "align_items": null,
            "bottom": null,
            "_model_module": "@jupyter-widgets/base",
            "top": null,
            "grid_column": null,
            "overflow_y": null,
            "overflow_x": null,
            "grid_auto_flow": null,
            "grid_area": null,
            "grid_template_columns": null,
            "flex": null,
            "_model_name": "LayoutModel",
            "justify_items": null,
            "grid_row": null,
            "max_height": null,
            "align_content": null,
            "visibility": null,
            "align_self": null,
            "height": null,
            "min_height": null,
            "padding": null,
            "grid_auto_rows": null,
            "grid_gap": null,
            "max_width": null,
            "order": null,
            "_view_module_version": "1.2.0",
            "grid_template_areas": null,
            "object_position": null,
            "object_fit": null,
            "grid_auto_columns": null,
            "margin": null,
            "display": null,
            "left": null
          }
        },
        "8cdc76c7babb4d7d857128f78a4d67a8": {
          "model_module": "@jupyter-widgets/controls",
          "model_name": "ProgressStyleModel",
          "model_module_version": "1.5.0",
          "state": {
            "_view_name": "StyleView",
            "_model_name": "ProgressStyleModel",
            "description_width": "",
            "_view_module": "@jupyter-widgets/base",
            "_model_module_version": "1.5.0",
            "_view_count": null,
            "_view_module_version": "1.2.0",
            "bar_color": null,
            "_model_module": "@jupyter-widgets/controls"
          }
        },
        "3fbe99bc3cf241ad9588c65662de2304": {
          "model_module": "@jupyter-widgets/base",
          "model_name": "LayoutModel",
          "model_module_version": "1.2.0",
          "state": {
            "_view_name": "LayoutView",
            "grid_template_rows": null,
            "right": null,
            "justify_content": null,
            "_view_module": "@jupyter-widgets/base",
            "overflow": null,
            "_model_module_version": "1.2.0",
            "_view_count": null,
            "flex_flow": null,
            "width": null,
            "min_width": null,
            "border": null,
            "align_items": null,
            "bottom": null,
            "_model_module": "@jupyter-widgets/base",
            "top": null,
            "grid_column": null,
            "overflow_y": null,
            "overflow_x": null,
            "grid_auto_flow": null,
            "grid_area": null,
            "grid_template_columns": null,
            "flex": null,
            "_model_name": "LayoutModel",
            "justify_items": null,
            "grid_row": null,
            "max_height": null,
            "align_content": null,
            "visibility": null,
            "align_self": null,
            "height": null,
            "min_height": null,
            "padding": null,
            "grid_auto_rows": null,
            "grid_gap": null,
            "max_width": null,
            "order": null,
            "_view_module_version": "1.2.0",
            "grid_template_areas": null,
            "object_position": null,
            "object_fit": null,
            "grid_auto_columns": null,
            "margin": null,
            "display": null,
            "left": null
          }
        },
        "1d6919d7b242463cb41e2dc9f36b6e5b": {
          "model_module": "@jupyter-widgets/controls",
          "model_name": "DescriptionStyleModel",
          "model_module_version": "1.5.0",
          "state": {
            "_view_name": "StyleView",
            "_model_name": "DescriptionStyleModel",
            "description_width": "",
            "_view_module": "@jupyter-widgets/base",
            "_model_module_version": "1.5.0",
            "_view_count": null,
            "_view_module_version": "1.2.0",
            "_model_module": "@jupyter-widgets/controls"
          }
        },
        "51e44cb241d648d6999b4817769ebb70": {
          "model_module": "@jupyter-widgets/base",
          "model_name": "LayoutModel",
          "model_module_version": "1.2.0",
          "state": {
            "_view_name": "LayoutView",
            "grid_template_rows": null,
            "right": null,
            "justify_content": null,
            "_view_module": "@jupyter-widgets/base",
            "overflow": null,
            "_model_module_version": "1.2.0",
            "_view_count": null,
            "flex_flow": null,
            "width": null,
            "min_width": null,
            "border": null,
            "align_items": null,
            "bottom": null,
            "_model_module": "@jupyter-widgets/base",
            "top": null,
            "grid_column": null,
            "overflow_y": null,
            "overflow_x": null,
            "grid_auto_flow": null,
            "grid_area": null,
            "grid_template_columns": null,
            "flex": null,
            "_model_name": "LayoutModel",
            "justify_items": null,
            "grid_row": null,
            "max_height": null,
            "align_content": null,
            "visibility": null,
            "align_self": null,
            "height": null,
            "min_height": null,
            "padding": null,
            "grid_auto_rows": null,
            "grid_gap": null,
            "max_width": null,
            "order": null,
            "_view_module_version": "1.2.0",
            "grid_template_areas": null,
            "object_position": null,
            "object_fit": null,
            "grid_auto_columns": null,
            "margin": null,
            "display": null,
            "left": null
          }
        },
        "be16bbea56974c19af41dcb4605761be": {
          "model_module": "@jupyter-widgets/controls",
          "model_name": "HBoxModel",
          "model_module_version": "1.5.0",
          "state": {
            "_view_name": "HBoxView",
            "_dom_classes": [],
            "_model_name": "HBoxModel",
            "_view_module": "@jupyter-widgets/controls",
            "_model_module_version": "1.5.0",
            "_view_count": null,
            "_view_module_version": "1.5.0",
            "box_style": "",
            "layout": "IPY_MODEL_90b09931e5484234888c4ffce93175c5",
            "_model_module": "@jupyter-widgets/controls",
            "children": [
              "IPY_MODEL_0ed20c6090bf4cefa63ce022ebc53d2f",
              "IPY_MODEL_f99feb0c768a4b98846e2d24f6ed704b",
              "IPY_MODEL_a0d949d8aa13485dbfa57347ac3d2a7e"
            ]
          }
        },
        "90b09931e5484234888c4ffce93175c5": {
          "model_module": "@jupyter-widgets/base",
          "model_name": "LayoutModel",
          "model_module_version": "1.2.0",
          "state": {
            "_view_name": "LayoutView",
            "grid_template_rows": null,
            "right": null,
            "justify_content": null,
            "_view_module": "@jupyter-widgets/base",
            "overflow": null,
            "_model_module_version": "1.2.0",
            "_view_count": null,
            "flex_flow": null,
            "width": null,
            "min_width": null,
            "border": null,
            "align_items": null,
            "bottom": null,
            "_model_module": "@jupyter-widgets/base",
            "top": null,
            "grid_column": null,
            "overflow_y": null,
            "overflow_x": null,
            "grid_auto_flow": null,
            "grid_area": null,
            "grid_template_columns": null,
            "flex": null,
            "_model_name": "LayoutModel",
            "justify_items": null,
            "grid_row": null,
            "max_height": null,
            "align_content": null,
            "visibility": null,
            "align_self": null,
            "height": null,
            "min_height": null,
            "padding": null,
            "grid_auto_rows": null,
            "grid_gap": null,
            "max_width": null,
            "order": null,
            "_view_module_version": "1.2.0",
            "grid_template_areas": null,
            "object_position": null,
            "object_fit": null,
            "grid_auto_columns": null,
            "margin": null,
            "display": null,
            "left": null
          }
        },
        "0ed20c6090bf4cefa63ce022ebc53d2f": {
          "model_module": "@jupyter-widgets/controls",
          "model_name": "HTMLModel",
          "model_module_version": "1.5.0",
          "state": {
            "_view_name": "HTMLView",
            "style": "IPY_MODEL_6c5546f871dc4599a36ce1be416dcf12",
            "_dom_classes": [],
            "description": "",
            "_model_name": "HTMLModel",
            "placeholder": "​",
            "_view_module": "@jupyter-widgets/controls",
            "_model_module_version": "1.5.0",
            "value": "100%",
            "_view_count": null,
            "_view_module_version": "1.5.0",
            "description_tooltip": null,
            "_model_module": "@jupyter-widgets/controls",
            "layout": "IPY_MODEL_0caee9731442496cbc395e357cec8a51"
          }
        },
        "f99feb0c768a4b98846e2d24f6ed704b": {
          "model_module": "@jupyter-widgets/controls",
          "model_name": "FloatProgressModel",
          "model_module_version": "1.5.0",
          "state": {
            "_view_name": "ProgressView",
            "style": "IPY_MODEL_d42f286a599944e8bde4ca5a611beb43",
            "_dom_classes": [],
            "description": "",
            "_model_name": "FloatProgressModel",
            "bar_style": "success",
            "max": 150,
            "_view_module": "@jupyter-widgets/controls",
            "_model_module_version": "1.5.0",
            "value": 150,
            "_view_count": null,
            "_view_module_version": "1.5.0",
            "orientation": "horizontal",
            "min": 0,
            "description_tooltip": null,
            "_model_module": "@jupyter-widgets/controls",
            "layout": "IPY_MODEL_52c9c6e36de64390ab9f3ad563981342"
          }
        },
        "a0d949d8aa13485dbfa57347ac3d2a7e": {
          "model_module": "@jupyter-widgets/controls",
          "model_name": "HTMLModel",
          "model_module_version": "1.5.0",
          "state": {
            "_view_name": "HTMLView",
            "style": "IPY_MODEL_f983893b61824282bd05e725c4825937",
            "_dom_classes": [],
            "description": "",
            "_model_name": "HTMLModel",
            "placeholder": "​",
            "_view_module": "@jupyter-widgets/controls",
            "_model_module_version": "1.5.0",
            "value": " 150/150 [01:08&lt;00:00,  2.19it/s]",
            "_view_count": null,
            "_view_module_version": "1.5.0",
            "description_tooltip": null,
            "_model_module": "@jupyter-widgets/controls",
            "layout": "IPY_MODEL_1cc9f682dca84fe79418b95be51a3ffe"
          }
        },
        "6c5546f871dc4599a36ce1be416dcf12": {
          "model_module": "@jupyter-widgets/controls",
          "model_name": "DescriptionStyleModel",
          "model_module_version": "1.5.0",
          "state": {
            "_view_name": "StyleView",
            "_model_name": "DescriptionStyleModel",
            "description_width": "",
            "_view_module": "@jupyter-widgets/base",
            "_model_module_version": "1.5.0",
            "_view_count": null,
            "_view_module_version": "1.2.0",
            "_model_module": "@jupyter-widgets/controls"
          }
        },
        "0caee9731442496cbc395e357cec8a51": {
          "model_module": "@jupyter-widgets/base",
          "model_name": "LayoutModel",
          "model_module_version": "1.2.0",
          "state": {
            "_view_name": "LayoutView",
            "grid_template_rows": null,
            "right": null,
            "justify_content": null,
            "_view_module": "@jupyter-widgets/base",
            "overflow": null,
            "_model_module_version": "1.2.0",
            "_view_count": null,
            "flex_flow": null,
            "width": null,
            "min_width": null,
            "border": null,
            "align_items": null,
            "bottom": null,
            "_model_module": "@jupyter-widgets/base",
            "top": null,
            "grid_column": null,
            "overflow_y": null,
            "overflow_x": null,
            "grid_auto_flow": null,
            "grid_area": null,
            "grid_template_columns": null,
            "flex": null,
            "_model_name": "LayoutModel",
            "justify_items": null,
            "grid_row": null,
            "max_height": null,
            "align_content": null,
            "visibility": null,
            "align_self": null,
            "height": null,
            "min_height": null,
            "padding": null,
            "grid_auto_rows": null,
            "grid_gap": null,
            "max_width": null,
            "order": null,
            "_view_module_version": "1.2.0",
            "grid_template_areas": null,
            "object_position": null,
            "object_fit": null,
            "grid_auto_columns": null,
            "margin": null,
            "display": null,
            "left": null
          }
        },
        "d42f286a599944e8bde4ca5a611beb43": {
          "model_module": "@jupyter-widgets/controls",
          "model_name": "ProgressStyleModel",
          "model_module_version": "1.5.0",
          "state": {
            "_view_name": "StyleView",
            "_model_name": "ProgressStyleModel",
            "description_width": "",
            "_view_module": "@jupyter-widgets/base",
            "_model_module_version": "1.5.0",
            "_view_count": null,
            "_view_module_version": "1.2.0",
            "bar_color": null,
            "_model_module": "@jupyter-widgets/controls"
          }
        },
        "52c9c6e36de64390ab9f3ad563981342": {
          "model_module": "@jupyter-widgets/base",
          "model_name": "LayoutModel",
          "model_module_version": "1.2.0",
          "state": {
            "_view_name": "LayoutView",
            "grid_template_rows": null,
            "right": null,
            "justify_content": null,
            "_view_module": "@jupyter-widgets/base",
            "overflow": null,
            "_model_module_version": "1.2.0",
            "_view_count": null,
            "flex_flow": null,
            "width": null,
            "min_width": null,
            "border": null,
            "align_items": null,
            "bottom": null,
            "_model_module": "@jupyter-widgets/base",
            "top": null,
            "grid_column": null,
            "overflow_y": null,
            "overflow_x": null,
            "grid_auto_flow": null,
            "grid_area": null,
            "grid_template_columns": null,
            "flex": null,
            "_model_name": "LayoutModel",
            "justify_items": null,
            "grid_row": null,
            "max_height": null,
            "align_content": null,
            "visibility": null,
            "align_self": null,
            "height": null,
            "min_height": null,
            "padding": null,
            "grid_auto_rows": null,
            "grid_gap": null,
            "max_width": null,
            "order": null,
            "_view_module_version": "1.2.0",
            "grid_template_areas": null,
            "object_position": null,
            "object_fit": null,
            "grid_auto_columns": null,
            "margin": null,
            "display": null,
            "left": null
          }
        },
        "f983893b61824282bd05e725c4825937": {
          "model_module": "@jupyter-widgets/controls",
          "model_name": "DescriptionStyleModel",
          "model_module_version": "1.5.0",
          "state": {
            "_view_name": "StyleView",
            "_model_name": "DescriptionStyleModel",
            "description_width": "",
            "_view_module": "@jupyter-widgets/base",
            "_model_module_version": "1.5.0",
            "_view_count": null,
            "_view_module_version": "1.2.0",
            "_model_module": "@jupyter-widgets/controls"
          }
        },
        "1cc9f682dca84fe79418b95be51a3ffe": {
          "model_module": "@jupyter-widgets/base",
          "model_name": "LayoutModel",
          "model_module_version": "1.2.0",
          "state": {
            "_view_name": "LayoutView",
            "grid_template_rows": null,
            "right": null,
            "justify_content": null,
            "_view_module": "@jupyter-widgets/base",
            "overflow": null,
            "_model_module_version": "1.2.0",
            "_view_count": null,
            "flex_flow": null,
            "width": null,
            "min_width": null,
            "border": null,
            "align_items": null,
            "bottom": null,
            "_model_module": "@jupyter-widgets/base",
            "top": null,
            "grid_column": null,
            "overflow_y": null,
            "overflow_x": null,
            "grid_auto_flow": null,
            "grid_area": null,
            "grid_template_columns": null,
            "flex": null,
            "_model_name": "LayoutModel",
            "justify_items": null,
            "grid_row": null,
            "max_height": null,
            "align_content": null,
            "visibility": null,
            "align_self": null,
            "height": null,
            "min_height": null,
            "padding": null,
            "grid_auto_rows": null,
            "grid_gap": null,
            "max_width": null,
            "order": null,
            "_view_module_version": "1.2.0",
            "grid_template_areas": null,
            "object_position": null,
            "object_fit": null,
            "grid_auto_columns": null,
            "margin": null,
            "display": null,
            "left": null
          }
        },
        "2fec168522b6403881e19c6ebf9019a8": {
          "model_module": "@jupyter-widgets/controls",
          "model_name": "HBoxModel",
          "model_module_version": "1.5.0",
          "state": {
            "_view_name": "HBoxView",
            "_dom_classes": [],
            "_model_name": "HBoxModel",
            "_view_module": "@jupyter-widgets/controls",
            "_model_module_version": "1.5.0",
            "_view_count": null,
            "_view_module_version": "1.5.0",
            "box_style": "",
            "layout": "IPY_MODEL_7c41634eb35f4b8c94332f72536a2a2d",
            "_model_module": "@jupyter-widgets/controls",
            "children": [
              "IPY_MODEL_10d1372b43324cf1a31f3e41f8c55bb1",
              "IPY_MODEL_dba9b975ef284ecf93e03b5d11cfbb9e",
              "IPY_MODEL_30d70fdf5ef643258bbdfa5cb6d9b645"
            ]
          }
        },
        "7c41634eb35f4b8c94332f72536a2a2d": {
          "model_module": "@jupyter-widgets/base",
          "model_name": "LayoutModel",
          "model_module_version": "1.2.0",
          "state": {
            "_view_name": "LayoutView",
            "grid_template_rows": null,
            "right": null,
            "justify_content": null,
            "_view_module": "@jupyter-widgets/base",
            "overflow": null,
            "_model_module_version": "1.2.0",
            "_view_count": null,
            "flex_flow": null,
            "width": null,
            "min_width": null,
            "border": null,
            "align_items": null,
            "bottom": null,
            "_model_module": "@jupyter-widgets/base",
            "top": null,
            "grid_column": null,
            "overflow_y": null,
            "overflow_x": null,
            "grid_auto_flow": null,
            "grid_area": null,
            "grid_template_columns": null,
            "flex": null,
            "_model_name": "LayoutModel",
            "justify_items": null,
            "grid_row": null,
            "max_height": null,
            "align_content": null,
            "visibility": null,
            "align_self": null,
            "height": null,
            "min_height": null,
            "padding": null,
            "grid_auto_rows": null,
            "grid_gap": null,
            "max_width": null,
            "order": null,
            "_view_module_version": "1.2.0",
            "grid_template_areas": null,
            "object_position": null,
            "object_fit": null,
            "grid_auto_columns": null,
            "margin": null,
            "display": null,
            "left": null
          }
        },
        "10d1372b43324cf1a31f3e41f8c55bb1": {
          "model_module": "@jupyter-widgets/controls",
          "model_name": "HTMLModel",
          "model_module_version": "1.5.0",
          "state": {
            "_view_name": "HTMLView",
            "style": "IPY_MODEL_2aabb768e1594d2f90bf2e849a6cbb79",
            "_dom_classes": [],
            "description": "",
            "_model_name": "HTMLModel",
            "placeholder": "​",
            "_view_module": "@jupyter-widgets/controls",
            "_model_module_version": "1.5.0",
            "value": "100%",
            "_view_count": null,
            "_view_module_version": "1.5.0",
            "description_tooltip": null,
            "_model_module": "@jupyter-widgets/controls",
            "layout": "IPY_MODEL_487f9e0e59f2424dbdb388f50f84a480"
          }
        },
        "dba9b975ef284ecf93e03b5d11cfbb9e": {
          "model_module": "@jupyter-widgets/controls",
          "model_name": "FloatProgressModel",
          "model_module_version": "1.5.0",
          "state": {
            "_view_name": "ProgressView",
            "style": "IPY_MODEL_6a4a6c04a207444d8f799bd3c8c77d12",
            "_dom_classes": [],
            "description": "",
            "_model_name": "FloatProgressModel",
            "bar_style": "success",
            "max": 150,
            "_view_module": "@jupyter-widgets/controls",
            "_model_module_version": "1.5.0",
            "value": 150,
            "_view_count": null,
            "_view_module_version": "1.5.0",
            "orientation": "horizontal",
            "min": 0,
            "description_tooltip": null,
            "_model_module": "@jupyter-widgets/controls",
            "layout": "IPY_MODEL_98d8ff0dcc8f4220952a03c5240f9a1a"
          }
        },
        "30d70fdf5ef643258bbdfa5cb6d9b645": {
          "model_module": "@jupyter-widgets/controls",
          "model_name": "HTMLModel",
          "model_module_version": "1.5.0",
          "state": {
            "_view_name": "HTMLView",
            "style": "IPY_MODEL_fbddd38ea4c24bab9b15c2f423f15600",
            "_dom_classes": [],
            "description": "",
            "_model_name": "HTMLModel",
            "placeholder": "​",
            "_view_module": "@jupyter-widgets/controls",
            "_model_module_version": "1.5.0",
            "value": " 150/150 [01:08&lt;00:00,  2.20it/s]",
            "_view_count": null,
            "_view_module_version": "1.5.0",
            "description_tooltip": null,
            "_model_module": "@jupyter-widgets/controls",
            "layout": "IPY_MODEL_9c0132906baf46bd99b150ca8142de1d"
          }
        },
        "2aabb768e1594d2f90bf2e849a6cbb79": {
          "model_module": "@jupyter-widgets/controls",
          "model_name": "DescriptionStyleModel",
          "model_module_version": "1.5.0",
          "state": {
            "_view_name": "StyleView",
            "_model_name": "DescriptionStyleModel",
            "description_width": "",
            "_view_module": "@jupyter-widgets/base",
            "_model_module_version": "1.5.0",
            "_view_count": null,
            "_view_module_version": "1.2.0",
            "_model_module": "@jupyter-widgets/controls"
          }
        },
        "487f9e0e59f2424dbdb388f50f84a480": {
          "model_module": "@jupyter-widgets/base",
          "model_name": "LayoutModel",
          "model_module_version": "1.2.0",
          "state": {
            "_view_name": "LayoutView",
            "grid_template_rows": null,
            "right": null,
            "justify_content": null,
            "_view_module": "@jupyter-widgets/base",
            "overflow": null,
            "_model_module_version": "1.2.0",
            "_view_count": null,
            "flex_flow": null,
            "width": null,
            "min_width": null,
            "border": null,
            "align_items": null,
            "bottom": null,
            "_model_module": "@jupyter-widgets/base",
            "top": null,
            "grid_column": null,
            "overflow_y": null,
            "overflow_x": null,
            "grid_auto_flow": null,
            "grid_area": null,
            "grid_template_columns": null,
            "flex": null,
            "_model_name": "LayoutModel",
            "justify_items": null,
            "grid_row": null,
            "max_height": null,
            "align_content": null,
            "visibility": null,
            "align_self": null,
            "height": null,
            "min_height": null,
            "padding": null,
            "grid_auto_rows": null,
            "grid_gap": null,
            "max_width": null,
            "order": null,
            "_view_module_version": "1.2.0",
            "grid_template_areas": null,
            "object_position": null,
            "object_fit": null,
            "grid_auto_columns": null,
            "margin": null,
            "display": null,
            "left": null
          }
        },
        "6a4a6c04a207444d8f799bd3c8c77d12": {
          "model_module": "@jupyter-widgets/controls",
          "model_name": "ProgressStyleModel",
          "model_module_version": "1.5.0",
          "state": {
            "_view_name": "StyleView",
            "_model_name": "ProgressStyleModel",
            "description_width": "",
            "_view_module": "@jupyter-widgets/base",
            "_model_module_version": "1.5.0",
            "_view_count": null,
            "_view_module_version": "1.2.0",
            "bar_color": null,
            "_model_module": "@jupyter-widgets/controls"
          }
        },
        "98d8ff0dcc8f4220952a03c5240f9a1a": {
          "model_module": "@jupyter-widgets/base",
          "model_name": "LayoutModel",
          "model_module_version": "1.2.0",
          "state": {
            "_view_name": "LayoutView",
            "grid_template_rows": null,
            "right": null,
            "justify_content": null,
            "_view_module": "@jupyter-widgets/base",
            "overflow": null,
            "_model_module_version": "1.2.0",
            "_view_count": null,
            "flex_flow": null,
            "width": null,
            "min_width": null,
            "border": null,
            "align_items": null,
            "bottom": null,
            "_model_module": "@jupyter-widgets/base",
            "top": null,
            "grid_column": null,
            "overflow_y": null,
            "overflow_x": null,
            "grid_auto_flow": null,
            "grid_area": null,
            "grid_template_columns": null,
            "flex": null,
            "_model_name": "LayoutModel",
            "justify_items": null,
            "grid_row": null,
            "max_height": null,
            "align_content": null,
            "visibility": null,
            "align_self": null,
            "height": null,
            "min_height": null,
            "padding": null,
            "grid_auto_rows": null,
            "grid_gap": null,
            "max_width": null,
            "order": null,
            "_view_module_version": "1.2.0",
            "grid_template_areas": null,
            "object_position": null,
            "object_fit": null,
            "grid_auto_columns": null,
            "margin": null,
            "display": null,
            "left": null
          }
        },
        "fbddd38ea4c24bab9b15c2f423f15600": {
          "model_module": "@jupyter-widgets/controls",
          "model_name": "DescriptionStyleModel",
          "model_module_version": "1.5.0",
          "state": {
            "_view_name": "StyleView",
            "_model_name": "DescriptionStyleModel",
            "description_width": "",
            "_view_module": "@jupyter-widgets/base",
            "_model_module_version": "1.5.0",
            "_view_count": null,
            "_view_module_version": "1.2.0",
            "_model_module": "@jupyter-widgets/controls"
          }
        },
        "9c0132906baf46bd99b150ca8142de1d": {
          "model_module": "@jupyter-widgets/base",
          "model_name": "LayoutModel",
          "model_module_version": "1.2.0",
          "state": {
            "_view_name": "LayoutView",
            "grid_template_rows": null,
            "right": null,
            "justify_content": null,
            "_view_module": "@jupyter-widgets/base",
            "overflow": null,
            "_model_module_version": "1.2.0",
            "_view_count": null,
            "flex_flow": null,
            "width": null,
            "min_width": null,
            "border": null,
            "align_items": null,
            "bottom": null,
            "_model_module": "@jupyter-widgets/base",
            "top": null,
            "grid_column": null,
            "overflow_y": null,
            "overflow_x": null,
            "grid_auto_flow": null,
            "grid_area": null,
            "grid_template_columns": null,
            "flex": null,
            "_model_name": "LayoutModel",
            "justify_items": null,
            "grid_row": null,
            "max_height": null,
            "align_content": null,
            "visibility": null,
            "align_self": null,
            "height": null,
            "min_height": null,
            "padding": null,
            "grid_auto_rows": null,
            "grid_gap": null,
            "max_width": null,
            "order": null,
            "_view_module_version": "1.2.0",
            "grid_template_areas": null,
            "object_position": null,
            "object_fit": null,
            "grid_auto_columns": null,
            "margin": null,
            "display": null,
            "left": null
          }
        },
        "3e6154011ac445bcbc1143a5355c1970": {
          "model_module": "@jupyter-widgets/controls",
          "model_name": "HBoxModel",
          "model_module_version": "1.5.0",
          "state": {
            "_view_name": "HBoxView",
            "_dom_classes": [],
            "_model_name": "HBoxModel",
            "_view_module": "@jupyter-widgets/controls",
            "_model_module_version": "1.5.0",
            "_view_count": null,
            "_view_module_version": "1.5.0",
            "box_style": "",
            "layout": "IPY_MODEL_cb16809dc8774ecf8248f2be27ac0630",
            "_model_module": "@jupyter-widgets/controls",
            "children": [
              "IPY_MODEL_b93e11fceec8440284537a744cb3c27b",
              "IPY_MODEL_c37ff86120a94f2c88580a5c27f83bcf",
              "IPY_MODEL_48a8a6d98a744f2b956e072aa1a16426"
            ]
          }
        },
        "cb16809dc8774ecf8248f2be27ac0630": {
          "model_module": "@jupyter-widgets/base",
          "model_name": "LayoutModel",
          "model_module_version": "1.2.0",
          "state": {
            "_view_name": "LayoutView",
            "grid_template_rows": null,
            "right": null,
            "justify_content": null,
            "_view_module": "@jupyter-widgets/base",
            "overflow": null,
            "_model_module_version": "1.2.0",
            "_view_count": null,
            "flex_flow": null,
            "width": null,
            "min_width": null,
            "border": null,
            "align_items": null,
            "bottom": null,
            "_model_module": "@jupyter-widgets/base",
            "top": null,
            "grid_column": null,
            "overflow_y": null,
            "overflow_x": null,
            "grid_auto_flow": null,
            "grid_area": null,
            "grid_template_columns": null,
            "flex": null,
            "_model_name": "LayoutModel",
            "justify_items": null,
            "grid_row": null,
            "max_height": null,
            "align_content": null,
            "visibility": null,
            "align_self": null,
            "height": null,
            "min_height": null,
            "padding": null,
            "grid_auto_rows": null,
            "grid_gap": null,
            "max_width": null,
            "order": null,
            "_view_module_version": "1.2.0",
            "grid_template_areas": null,
            "object_position": null,
            "object_fit": null,
            "grid_auto_columns": null,
            "margin": null,
            "display": null,
            "left": null
          }
        },
        "b93e11fceec8440284537a744cb3c27b": {
          "model_module": "@jupyter-widgets/controls",
          "model_name": "HTMLModel",
          "model_module_version": "1.5.0",
          "state": {
            "_view_name": "HTMLView",
            "style": "IPY_MODEL_d5c0fdae3cae4307b4b6d5dd2b891f8f",
            "_dom_classes": [],
            "description": "",
            "_model_name": "HTMLModel",
            "placeholder": "​",
            "_view_module": "@jupyter-widgets/controls",
            "_model_module_version": "1.5.0",
            "value": "100%",
            "_view_count": null,
            "_view_module_version": "1.5.0",
            "description_tooltip": null,
            "_model_module": "@jupyter-widgets/controls",
            "layout": "IPY_MODEL_2c623eef93c346ae8fbae668f5f6c194"
          }
        },
        "c37ff86120a94f2c88580a5c27f83bcf": {
          "model_module": "@jupyter-widgets/controls",
          "model_name": "FloatProgressModel",
          "model_module_version": "1.5.0",
          "state": {
            "_view_name": "ProgressView",
            "style": "IPY_MODEL_0f670c0d21024456855c255c938781f4",
            "_dom_classes": [],
            "description": "",
            "_model_name": "FloatProgressModel",
            "bar_style": "success",
            "max": 150,
            "_view_module": "@jupyter-widgets/controls",
            "_model_module_version": "1.5.0",
            "value": 150,
            "_view_count": null,
            "_view_module_version": "1.5.0",
            "orientation": "horizontal",
            "min": 0,
            "description_tooltip": null,
            "_model_module": "@jupyter-widgets/controls",
            "layout": "IPY_MODEL_907aa73f80c441c2840d70ead2382ca7"
          }
        },
        "48a8a6d98a744f2b956e072aa1a16426": {
          "model_module": "@jupyter-widgets/controls",
          "model_name": "HTMLModel",
          "model_module_version": "1.5.0",
          "state": {
            "_view_name": "HTMLView",
            "style": "IPY_MODEL_ee82c54e20724c20810fb3151e9286fe",
            "_dom_classes": [],
            "description": "",
            "_model_name": "HTMLModel",
            "placeholder": "​",
            "_view_module": "@jupyter-widgets/controls",
            "_model_module_version": "1.5.0",
            "value": " 150/150 [01:09&lt;00:00,  2.19it/s]",
            "_view_count": null,
            "_view_module_version": "1.5.0",
            "description_tooltip": null,
            "_model_module": "@jupyter-widgets/controls",
            "layout": "IPY_MODEL_efcc9a08bdd149288579a02743650414"
          }
        },
        "d5c0fdae3cae4307b4b6d5dd2b891f8f": {
          "model_module": "@jupyter-widgets/controls",
          "model_name": "DescriptionStyleModel",
          "model_module_version": "1.5.0",
          "state": {
            "_view_name": "StyleView",
            "_model_name": "DescriptionStyleModel",
            "description_width": "",
            "_view_module": "@jupyter-widgets/base",
            "_model_module_version": "1.5.0",
            "_view_count": null,
            "_view_module_version": "1.2.0",
            "_model_module": "@jupyter-widgets/controls"
          }
        },
        "2c623eef93c346ae8fbae668f5f6c194": {
          "model_module": "@jupyter-widgets/base",
          "model_name": "LayoutModel",
          "model_module_version": "1.2.0",
          "state": {
            "_view_name": "LayoutView",
            "grid_template_rows": null,
            "right": null,
            "justify_content": null,
            "_view_module": "@jupyter-widgets/base",
            "overflow": null,
            "_model_module_version": "1.2.0",
            "_view_count": null,
            "flex_flow": null,
            "width": null,
            "min_width": null,
            "border": null,
            "align_items": null,
            "bottom": null,
            "_model_module": "@jupyter-widgets/base",
            "top": null,
            "grid_column": null,
            "overflow_y": null,
            "overflow_x": null,
            "grid_auto_flow": null,
            "grid_area": null,
            "grid_template_columns": null,
            "flex": null,
            "_model_name": "LayoutModel",
            "justify_items": null,
            "grid_row": null,
            "max_height": null,
            "align_content": null,
            "visibility": null,
            "align_self": null,
            "height": null,
            "min_height": null,
            "padding": null,
            "grid_auto_rows": null,
            "grid_gap": null,
            "max_width": null,
            "order": null,
            "_view_module_version": "1.2.0",
            "grid_template_areas": null,
            "object_position": null,
            "object_fit": null,
            "grid_auto_columns": null,
            "margin": null,
            "display": null,
            "left": null
          }
        },
        "0f670c0d21024456855c255c938781f4": {
          "model_module": "@jupyter-widgets/controls",
          "model_name": "ProgressStyleModel",
          "model_module_version": "1.5.0",
          "state": {
            "_view_name": "StyleView",
            "_model_name": "ProgressStyleModel",
            "description_width": "",
            "_view_module": "@jupyter-widgets/base",
            "_model_module_version": "1.5.0",
            "_view_count": null,
            "_view_module_version": "1.2.0",
            "bar_color": null,
            "_model_module": "@jupyter-widgets/controls"
          }
        },
        "907aa73f80c441c2840d70ead2382ca7": {
          "model_module": "@jupyter-widgets/base",
          "model_name": "LayoutModel",
          "model_module_version": "1.2.0",
          "state": {
            "_view_name": "LayoutView",
            "grid_template_rows": null,
            "right": null,
            "justify_content": null,
            "_view_module": "@jupyter-widgets/base",
            "overflow": null,
            "_model_module_version": "1.2.0",
            "_view_count": null,
            "flex_flow": null,
            "width": null,
            "min_width": null,
            "border": null,
            "align_items": null,
            "bottom": null,
            "_model_module": "@jupyter-widgets/base",
            "top": null,
            "grid_column": null,
            "overflow_y": null,
            "overflow_x": null,
            "grid_auto_flow": null,
            "grid_area": null,
            "grid_template_columns": null,
            "flex": null,
            "_model_name": "LayoutModel",
            "justify_items": null,
            "grid_row": null,
            "max_height": null,
            "align_content": null,
            "visibility": null,
            "align_self": null,
            "height": null,
            "min_height": null,
            "padding": null,
            "grid_auto_rows": null,
            "grid_gap": null,
            "max_width": null,
            "order": null,
            "_view_module_version": "1.2.0",
            "grid_template_areas": null,
            "object_position": null,
            "object_fit": null,
            "grid_auto_columns": null,
            "margin": null,
            "display": null,
            "left": null
          }
        },
        "ee82c54e20724c20810fb3151e9286fe": {
          "model_module": "@jupyter-widgets/controls",
          "model_name": "DescriptionStyleModel",
          "model_module_version": "1.5.0",
          "state": {
            "_view_name": "StyleView",
            "_model_name": "DescriptionStyleModel",
            "description_width": "",
            "_view_module": "@jupyter-widgets/base",
            "_model_module_version": "1.5.0",
            "_view_count": null,
            "_view_module_version": "1.2.0",
            "_model_module": "@jupyter-widgets/controls"
          }
        },
        "efcc9a08bdd149288579a02743650414": {
          "model_module": "@jupyter-widgets/base",
          "model_name": "LayoutModel",
          "model_module_version": "1.2.0",
          "state": {
            "_view_name": "LayoutView",
            "grid_template_rows": null,
            "right": null,
            "justify_content": null,
            "_view_module": "@jupyter-widgets/base",
            "overflow": null,
            "_model_module_version": "1.2.0",
            "_view_count": null,
            "flex_flow": null,
            "width": null,
            "min_width": null,
            "border": null,
            "align_items": null,
            "bottom": null,
            "_model_module": "@jupyter-widgets/base",
            "top": null,
            "grid_column": null,
            "overflow_y": null,
            "overflow_x": null,
            "grid_auto_flow": null,
            "grid_area": null,
            "grid_template_columns": null,
            "flex": null,
            "_model_name": "LayoutModel",
            "justify_items": null,
            "grid_row": null,
            "max_height": null,
            "align_content": null,
            "visibility": null,
            "align_self": null,
            "height": null,
            "min_height": null,
            "padding": null,
            "grid_auto_rows": null,
            "grid_gap": null,
            "max_width": null,
            "order": null,
            "_view_module_version": "1.2.0",
            "grid_template_areas": null,
            "object_position": null,
            "object_fit": null,
            "grid_auto_columns": null,
            "margin": null,
            "display": null,
            "left": null
          }
        }
      }
    }
  },
  "cells": [
    {
      "cell_type": "markdown",
      "metadata": {
        "id": "nEP3HMg_s-jS"
      },
      "source": [
        "<a href=\"https://colab.research.google.com/github/jeffheaton/present/blob/master/youtube/gan/heatonresearch_gan_kit.ipynb\" target=\"_parent\"><img src=\"https://colab.research.google.com/assets/colab-badge.svg\" alt=\"Open In Colab\"/></a>"
      ]
    },
    {
      "cell_type": "markdown",
      "metadata": {
        "id": "yKzuJGXKQcVK"
      },
      "source": [
        "# Install Software\n",
        "\n",
        "Some software must be installed into Colab, for this notebook to work. We are specificially using these technologies:\n",
        "\n",
        "* [Training Generative Adversarial Networks with Limited Data](https://arxiv.org/abs/2006.06676)\n",
        "Tero Karras, Miika Aittala, Janne Hellsten, Samuli Laine, Jaakko Lehtinen, Timo Aila\n",
        "* [One millisecond face alignment with an ensemble of regression trees](https://www.cv-foundation.org/openaccess/content_cvpr_2014/papers/Kazemi_One_Millisecond_Face_2014_CVPR_paper.pdf) Vahid Kazemi, Josephine Sullivan\n"
      ]
    },
    {
      "cell_type": "code",
      "metadata": {
        "id": "7L92jC-C4dHR",
        "outputId": "4c370ba0-3b0a-45f0-936c-9d8bea5337b0",
        "colab": {
          "base_uri": "https://localhost:8080/"
        }
      },
      "source": [
        "!rm -r /content/stylegan2-ada-pytorch/"
      ],
      "execution_count": 1,
      "outputs": [
        {
          "output_type": "stream",
          "name": "stdout",
          "text": [
            "rm: cannot remove '/content/stylegan2-ada-pytorch/': No such file or directory\n"
          ]
        }
      ]
    },
    {
      "cell_type": "code",
      "metadata": {
        "colab": {
          "base_uri": "https://localhost:8080/"
        },
        "id": "yBqoAbMSw8Gc",
        "outputId": "1a6f4721-ca91-4066-9d55-5bef89113aeb"
      },
      "source": [
        "!git clone https://github.com/mgzzl/stylegan2-ada-pytorch.git"
      ],
      "execution_count": 2,
      "outputs": [
        {
          "output_type": "stream",
          "name": "stdout",
          "text": [
            "Cloning into 'stylegan2-ada-pytorch'...\n",
            "remote: Enumerating objects: 530, done.\u001b[K\n",
            "remote: Total 530 (delta 0), reused 0 (delta 0), pack-reused 530\u001b[K\n",
            "Receiving objects: 100% (530/530), 8.77 MiB | 16.68 MiB/s, done.\n",
            "Resolving deltas: 100% (301/301), done.\n"
          ]
        }
      ]
    },
    {
      "cell_type": "code",
      "metadata": {
        "colab": {
          "base_uri": "https://localhost:8080/"
        },
        "id": "yJ9_41s0xcGa",
        "outputId": "f0107c55-2bdb-40c6-8541-8dd16a536479"
      },
      "source": [
        "%cd /content/stylegan2-ada-pytorch"
      ],
      "execution_count": 2,
      "outputs": [
        {
          "output_type": "stream",
          "name": "stdout",
          "text": [
            "/content/stylegan2-ada-pytorch\n"
          ]
        }
      ]
    },
    {
      "cell_type": "code",
      "metadata": {
        "id": "yF6haoQbQvZx",
        "outputId": "039d80c2-be00-4923-eb8d-d4a6e32c06d7",
        "colab": {
          "base_uri": "https://localhost:8080/"
        }
      },
      "source": [
        "!mkdir pretrained\n",
        "!curl --output pretrained/ffhq.pkl 'https://nvlabs-fi-cdn.nvidia.com/stylegan2-ada-pytorch/pretrained/ffhq.pkl'\n",
        "!curl --output pretrained/dog.pkl 'https://nvlabs-fi-cdn.nvidia.com/stylegan2-ada-pytorch/pretrained/afhqdog.pkl'\n",
        "!curl --output pretrained/metfaces.pkl 'https://nvlabs-fi-cdn.nvidia.com/stylegan2-ada-pytorch/pretrained/metfaces.pkl'"
      ],
      "execution_count": 9,
      "outputs": [
        {
          "output_type": "stream",
          "name": "stdout",
          "text": [
            "mkdir: cannot create directory ‘pretrained’: File exists\n",
            "  % Total    % Received % Xferd  Average Speed   Time    Time     Time  Current\n",
            "                                 Dload  Upload   Total   Spent    Left  Speed\n",
            "100  363M  100  363M    0     0   127M      0  0:00:02  0:00:02 --:--:--  127M\n",
            "  % Total    % Received % Xferd  Average Speed   Time    Time     Time  Current\n",
            "                                 Dload  Upload   Total   Spent    Left  Speed\n",
            "100  347M  100  347M    0     0  33.0M      0  0:00:10  0:00:10 --:--:-- 41.4M\n",
            "  % Total    % Received % Xferd  Average Speed   Time    Time     Time  Current\n",
            "                                 Dload  Upload   Total   Spent    Left  Speed\n",
            "100  363M  100  363M    0     0   128M      0  0:00:02  0:00:02 --:--:--  128M\n"
          ]
        }
      ]
    },
    {
      "cell_type": "code",
      "metadata": {
        "colab": {
          "base_uri": "https://localhost:8080/"
        },
        "id": "HVgGO9LoyUYF",
        "outputId": "9cc157d2-fa2d-4e14-cd53-e7d87679ad09"
      },
      "source": [
        "import os\n",
        "import sys\n",
        "import torch\n",
        "\n",
        "!pip install ninja\n",
        "!pip install opensimplex\n",
        "\n",
        "import dnnlib\n",
        "import legacy\n",
        "import PIL.Image\n",
        "import numpy as np\n",
        "import imageio\n",
        "from tqdm.notebook import tqdm\n",
        "from matplotlib import pyplot as plt\n",
        "import cv2\n",
        "import numpy as np\n",
        "\n",
        "def display_lowres(img):\n",
        "  plt.imshow(img)\n",
        "  plt.title('poster-gan')\n",
        "  plt.show()\n",
        "\n",
        "def seed2vec(g, seed):\n",
        "  return np.random.RandomState(seed).randn(1, g.z_dim)\n",
        "\n",
        "def load_vec(filename):\n",
        "  result = np.load(filename)\n",
        "  return result if 'w' not in result else result['w']\n",
        "  \n",
        "def save_vec(filename, lvec):\n",
        "  np.save(filename,lvec)\n",
        "\n",
        "def to_image(img):\n",
        "  return PIL.Image.fromarray(img, 'RGB')\n",
        "\n",
        "def render_gan(G, device, lvec, label=None, truncation_psi=1, noise_mode='const'):\n",
        "  # noise mode 'const', 'random', 'none'\n",
        "  z = torch.from_numpy(lvec).to(device)\n",
        "  if label is None: label = torch.zeros([1, G.c_dim], device=device)\n",
        "  print(lvec.shape)\n",
        "  if len(lvec.shape) == 2:\n",
        "    img = G(z, label, truncation_psi=truncation_psi, noise_mode=noise_mode)\n",
        "  else:\n",
        "    img = G.synthesis(z, noise_mode=noise_mode)\n",
        "  \n",
        "  img = (img.permute(0, 2, 3, 1) * 127.5 + 128).clamp(0, 255).to(torch.uint8)\n",
        "  return PIL.Image.fromarray(img[0].cpu().numpy(), 'RGB')"
      ],
      "execution_count": 3,
      "outputs": [
        {
          "output_type": "stream",
          "name": "stdout",
          "text": [
            "Requirement already satisfied: ninja in /usr/local/lib/python3.7/dist-packages (1.10.2.2)\n",
            "Requirement already satisfied: opensimplex in /usr/local/lib/python3.7/dist-packages (0.3)\n"
          ]
        }
      ]
    },
    {
      "cell_type": "markdown",
      "metadata": {
        "id": "VnrxIsvcTBiX"
      },
      "source": [
        "# Load a Pretrained GAN"
      ]
    },
    {
      "cell_type": "code",
      "metadata": {
        "id": "cE5ePN8eTF3a"
      },
      "source": [
        "STYLEGAN2_PKL_URL = \"https://nvlabs-fi-cdn.nvidia.com/stylegan2-ada-pytorch/pretrained/ffhq.pkl\"\n",
        "#STYLEGAN2_PKL_URL = \"https://github.com/jeffheaton/pretrained-gan-fish/releases/download/1.0.0/fish-gan-2020-12-09.pkl\"\n",
        "#STYLEGAN2_PKL_URL = \"https://github.com/jeffheaton/pretrained-gan-70s-scifi/releases/download/v1/70s-scifi-gan-2020-12-12.pkl\"\n",
        "#STYLEGAN2_PKL_URL = \"https://github.com/jeffheaton/pretrained-merry-gan-mas/releases/download/v1/christmas-gan-2020-12-03.pkl\"\n",
        "#STYLEGAN2_PKL_URL = \"https://github.com/jeffheaton/pretrained-gan-minecraft/releases/download/v1/minecraft-gan-2020-12-22.pkl\"\n",
        "#STYLEGAN2_PKL_URL = \"./out/training-runs/posterGAN2/00000-...\"\n",
        "\n",
        "device = torch.device('cuda')\n",
        "with dnnlib.util.open_url(STYLEGAN2_PKL_URL) as fp:\n",
        "    G = legacy.load_network_pkl(fp)['G_ema'].requires_grad_(False).to(device) # type: ignore"
      ],
      "execution_count": 4,
      "outputs": []
    },
    {
      "cell_type": "markdown",
      "metadata": {
        "id": "cT_91B3Kdo8t"
      },
      "source": [
        "# Generate Images and Videos from Seeds"
      ]
    },
    {
      "cell_type": "markdown",
      "metadata": {
        "id": "dIjfqGOlfFU3"
      },
      "source": [
        "## Generate GAN Images from Seeds\n",
        "\n",
        "The following code generates images from the loaded Pretrained GAN."
      ]
    },
    {
      "cell_type": "markdown",
      "metadata": {
        "id": "kPTXrWZOd6Z3"
      },
      "source": [
        "### Presettings for Generating"
      ]
    },
    {
      "cell_type": "code",
      "metadata": {
        "id": "-IX_T9preGpO"
      },
      "source": [
        "import random\n",
        "\n",
        "# Presettings\n",
        "seeds = random.sample(range(0, 999999), 5)\n",
        "OUTDIR = \"/out/generated_images\"\n",
        "\n",
        "# Create directory\n",
        "try:\n",
        "    os.makedirs(OUTDIR)\n",
        "except OSError:\n",
        "    pass"
      ],
      "execution_count": null,
      "outputs": []
    },
    {
      "cell_type": "markdown",
      "metadata": {
        "id": "lEb-DPQleOOX"
      },
      "source": [
        "### Generate Images"
      ]
    },
    {
      "cell_type": "code",
      "metadata": {
        "id": "WoOm04byx3k3"
      },
      "source": [
        "# Generate images.\n",
        "\n",
        "for seed_idx, seed in enumerate(seeds):\n",
        "  print('Generating image for seed %d (%d/%d) ...' % (seed, seed_idx, len(seeds)))\n",
        "  lv = seed2vec(G, seed)\n",
        "  save_vec(f'vec{seed:04d}.npy', lv)\n",
        "  img = render_gan(G, device, lv)\n",
        "  img.save(f'{OUTDIR}/seed{seed:04d}.png') # Save it\n",
        "  #display(img2) # Display hi-res\n",
        "  display_lowres(img)"
      ],
      "execution_count": null,
      "outputs": []
    },
    {
      "cell_type": "markdown",
      "metadata": {
        "id": "ldxGl3AiaXTp"
      },
      "source": [
        "## Build the Video from generated Images\n",
        "\n",
        "The following code builds a transition video between the latent vectors from generated images."
      ]
    },
    {
      "cell_type": "markdown",
      "metadata": {
        "id": "MIyKckWTueV5"
      },
      "source": [
        "### Presettings\n",
        "\n",
        "Some Variables for Process"
      ]
    },
    {
      "cell_type": "code",
      "metadata": {
        "colab": {
          "base_uri": "https://localhost:8080/"
        },
        "id": "fIMQXEDoueV5",
        "outputId": "13a6420d-bb23-4264-c029-f7fae9e06712"
      },
      "source": [
        "import os\n",
        "from pathlib import Path\n",
        "import random\n",
        "\n",
        "# To create a list of random integer values:\n",
        "NFT_SEEDS = random.sample(range(0, 999999), 30)\n",
        "\n",
        "# create a list of chosen integer values: \n",
        "#NFT_SEEDS = [1, 20, 400, 9]\n",
        "\n",
        "# presettings directory\n",
        "network_dir = \"./pretrained\"\n",
        "outdir = \"./out/generated-poster-nfts/\" # \"/\" nach Directory wichtig!\n",
        "print(f\"Outputdirectory: {outdir}\\nNetworkdirectory: {network_dir}\\nSEEDS: {NFT_SEEDS}\")\n",
        "\n",
        "# Presettings for Video\n",
        "STEPS = 150 # Steps between generated Images\n",
        "FPS = 30 # How much frames per seconde?\n",
        "FREEZE_STEPS = 0 # Freezing Steps for first_img before morphing to sec_img"
      ],
      "execution_count": null,
      "outputs": [
        {
          "output_type": "stream",
          "name": "stdout",
          "text": [
            "Outputdirectory: ./out/generated-poster-nfts/\n",
            "Networkdirectory: ./pretrained\n",
            "SEEDS: [790213, 815131, 204608, 323750, 678755, 841602, 838201, 437987, 283032, 494448, 889128, 354701, 437390, 781593, 679795, 587188, 103758, 360856, 72964, 727425, 78071, 717363, 224467, 106448, 503798, 723990, 232772, 455859, 114570, 414497]\n"
          ]
        }
      ]
    },
    {
      "cell_type": "markdown",
      "metadata": {
        "id": "abSJoB-beWYR"
      },
      "source": [
        "### Build the Video (npy - auto)\n",
        "\n",
        "Searching for generated npy files"
      ]
    },
    {
      "cell_type": "code",
      "metadata": {
        "id": "xDMQFj4_ueV7"
      },
      "source": [
        "import os\n",
        "import sys\n",
        "import glob\n",
        "import torch\n",
        "import dnnlib\n",
        "import legacy\n",
        "import PIL.Image\n",
        "import numpy as np\n",
        "import imageio\n",
        "from tqdm.notebook import tqdm\n",
        "\n",
        "lvec_root_dir = outdir\n",
        "print(F\"root_dir: {lvec_root_dir}\")\n",
        "lvec_sub_dir = [os.path.join(lvec_root_dir, o) for o in os.listdir(lvec_root_dir)\n",
        "                                            if os.path.isdir(os.path.join(lvec_root_dir, o))]\n",
        "print(F\"sub_dir: {lvec_sub_dir}\")\n",
        "for lv_sd in lvec_sub_dir:\n",
        "    seed_dir = [os.path.join(lv_sd + \"/\", n + \"/\", file) for n in os.listdir(lv_sd)\n",
        "                                                            if os.path.isdir(os.path.join(lv_sd, n))\n",
        "                                                                for file in os.listdir(os.path.join(lv_sd, n))\n",
        "                                                                    if file.endswith(\".npy\")]\n",
        "    \n",
        "    lvec_list=[]\n",
        "    for s in range(len(seed_dir)):\n",
        "        lvec_list.append(np.load(f'{seed_dir[s]}')) # setup latent-vector list for every founded latent vector inside of single seed\n",
        "    #lvec_list.append(np.load(f'{seed_dir[0]}')) # add first latent-vector also to the last to create a loop\n",
        "    print(seed_dir[:1])\n",
        "    print(f\"\\nLoading {len(lvec_list)} .npy files for {lv_sd}\")\n",
        "    lvec = lvec_list\n",
        "\n",
        "    network_pkl = STYLEGAN2_PKL_URL\n",
        "    device = torch.device('cuda')\n",
        "    with dnnlib.util.open_url(network_pkl) as fp:\n",
        "        G = legacy.load_network_pkl(fp)['G_ema'].requires_grad_(False).to(device) # type: ignore\n",
        "\n",
        "    target_uint8 = np.array([1024,1024,3], dtype=np.uint8)\n",
        "\n",
        "    video = imageio.get_writer(f'{lv_sd}/movie.mp4', mode='I', fps=FPS, codec='libx264', bitrate='16M')\n",
        "\n",
        "    for i in range(len(lvec)-1):\n",
        "        lvec1 = lvec[i]\n",
        "        lvec2 = lvec[i+1]\n",
        "\n",
        "        diff = lvec2 - lvec1\n",
        "        step = diff / STEPS\n",
        "        current = lvec1.copy()\n",
        "\n",
        "        for j in tqdm(range(STEPS)):\n",
        "            z = torch.from_numpy(current).to(device)\n",
        "            label=None\n",
        "            truncation_psi=1\n",
        "            noise_mode='const'\n",
        "            if label is None: label = torch.zeros([1, G.c_dim], device=device)\n",
        "            synth_image = G(z, label, truncation_psi=truncation_psi, noise_mode=noise_mode)\n",
        "            synth_image = (synth_image + 1) * (255/2)\n",
        "            synth_image = synth_image.permute(0, 2, 3, 1).clamp(0, 255).to(torch.uint8)[0].cpu().numpy()\n",
        "\n",
        "            repeat = FREEZE_STEPS if (j==0 and i==0) or (j==(STEPS-1) and i==(len(lvec)-2)) else 1\n",
        "        \n",
        "            for i in range(repeat):\n",
        "                video.append_data(synth_image)\n",
        "                current = current + step\n",
        "    \n",
        "    video.close()"
      ],
      "execution_count": null,
      "outputs": []
    },
    {
      "cell_type": "markdown",
      "metadata": {
        "id": "XXf6Sn4cQVIm"
      },
      "source": [
        "# Convert Image to a GAN\n",
        "\n",
        "First, we convert the source to a GAN latent vector.  This process will take several minutes."
      ]
    },
    {
      "cell_type": "markdown",
      "metadata": {
        "id": "6Z2OsOXsssMc"
      },
      "source": [
        "## Load a Saved Latent Vector and Display"
      ]
    },
    {
      "cell_type": "markdown",
      "metadata": {
        "id": "NGvogvCUevxF"
      },
      "source": [
        "## Build the Video (npz)\n",
        "\n",
        "Load projected_w.npz manually and build the video"
      ]
    },
    {
      "cell_type": "markdown",
      "metadata": {
        "id": "s908DiBvfiTU"
      },
      "source": [
        "### Presettings"
      ]
    },
    {
      "cell_type": "code",
      "metadata": {
        "id": "7SaS7IghfmMZ"
      },
      "source": [
        "STEPS = 150\n",
        "FPS = 30\n",
        "FREEZE_STEPS = 30\n",
        "network_pkl = {STYLEGAN2_PKL_URL}"
      ],
      "execution_count": null,
      "outputs": []
    },
    {
      "cell_type": "markdown",
      "metadata": {
        "id": "PJY-se7Qf84b"
      },
      "source": [
        "### Build the Video"
      ]
    },
    {
      "cell_type": "code",
      "metadata": {
        "colab": {
          "base_uri": "https://localhost:8080/",
          "height": 145,
          "referenced_widgets": [
            "3d42f0b413c44feab2d5609150788b3e",
            "37d23d943f3443b0846817772668dfa7",
            "dedf2f10df494932a9f0950c75386553",
            "95a0b2f4b6b649cf9d4a48cc7dcdbb14",
            "f57a742b8ed04f8bb9781a040f9cc2e7",
            "4d698c5079694e369fbe6e424ff4a52a",
            "fdf4c033163f47feabee7109e14c3090",
            "8cdc76c7babb4d7d857128f78a4d67a8",
            "3fbe99bc3cf241ad9588c65662de2304",
            "1d6919d7b242463cb41e2dc9f36b6e5b",
            "51e44cb241d648d6999b4817769ebb70",
            "be16bbea56974c19af41dcb4605761be",
            "90b09931e5484234888c4ffce93175c5",
            "0ed20c6090bf4cefa63ce022ebc53d2f",
            "f99feb0c768a4b98846e2d24f6ed704b",
            "a0d949d8aa13485dbfa57347ac3d2a7e",
            "6c5546f871dc4599a36ce1be416dcf12",
            "0caee9731442496cbc395e357cec8a51",
            "d42f286a599944e8bde4ca5a611beb43",
            "52c9c6e36de64390ab9f3ad563981342",
            "f983893b61824282bd05e725c4825937",
            "1cc9f682dca84fe79418b95be51a3ffe",
            "2fec168522b6403881e19c6ebf9019a8",
            "7c41634eb35f4b8c94332f72536a2a2d",
            "10d1372b43324cf1a31f3e41f8c55bb1",
            "dba9b975ef284ecf93e03b5d11cfbb9e",
            "30d70fdf5ef643258bbdfa5cb6d9b645",
            "2aabb768e1594d2f90bf2e849a6cbb79",
            "487f9e0e59f2424dbdb388f50f84a480",
            "6a4a6c04a207444d8f799bd3c8c77d12",
            "98d8ff0dcc8f4220952a03c5240f9a1a",
            "fbddd38ea4c24bab9b15c2f423f15600",
            "9c0132906baf46bd99b150ca8142de1d",
            "3e6154011ac445bcbc1143a5355c1970",
            "cb16809dc8774ecf8248f2be27ac0630",
            "b93e11fceec8440284537a744cb3c27b",
            "c37ff86120a94f2c88580a5c27f83bcf",
            "48a8a6d98a744f2b956e072aa1a16426",
            "d5c0fdae3cae4307b4b6d5dd2b891f8f",
            "2c623eef93c346ae8fbae668f5f6c194",
            "0f670c0d21024456855c255c938781f4",
            "907aa73f80c441c2840d70ead2382ca7",
            "ee82c54e20724c20810fb3151e9286fe",
            "efcc9a08bdd149288579a02743650414"
          ]
        },
        "id": "Vf4DWDFz5RdM",
        "outputId": "0e65d110-00c2-4992-cda3-b6757963a851"
      },
      "source": [
        "import torch\n",
        "import dnnlib\n",
        "import legacy\n",
        "import PIL.Image\n",
        "import numpy as np\n",
        "import imageio\n",
        "from tqdm.notebook import tqdm\n",
        "\n",
        "lvec = [\n",
        "  np.load('/content/first/projected_w.npz')['w'],\n",
        "  np.load('/content/seconde/projected_w.npz')['w']\n",
        "]\n",
        "\n",
        "device = torch.device('cuda')\n",
        "with dnnlib.util.open_url(network_pkl) as fp:\n",
        "    G = legacy.load_network_pkl(fp)['G_ema'].requires_grad_(False).to(device) # type: ignore\n",
        "\n",
        "target_uint8 = np.array([1024,1024,3], dtype=np.uint8)\n",
        "\n",
        "video = imageio.get_writer('/content/movie.mp4', mode='I', fps=FPS, codec='libx264', bitrate='16M')\n",
        "\n",
        "for i in range(len(lvec)-1):\n",
        "  lvec1 = lvec[i]\n",
        "  lvec2 = lvec[i+1]\n",
        "\n",
        "  diff = lvec2 - lvec1\n",
        "  step = diff / STEPS\n",
        "  current = lvec1.copy()\n",
        "\n",
        "  for j in tqdm(range(STEPS)):\n",
        "    z = torch.from_numpy(current).to(device)\n",
        "    synth_image = G.synthesis(z, noise_mode='const')\n",
        "    synth_image = (synth_image + 1) * (255/2)\n",
        "    synth_image = synth_image.permute(0, 2, 3, 1).clamp(0, 255).to(torch.uint8)[0].cpu().numpy()\n",
        "\n",
        "    repeat = FREEZE_STEPS if (j==0 and i==0) or (j==(STEPS-1) and i==(len(lvec)-2)) else 1\n",
        "    \n",
        "    for i in range(repeat):\n",
        "      video.append_data(synth_image)\n",
        "    current = current + step\n",
        "\n",
        "\n",
        "video.close()"
      ],
      "execution_count": null,
      "outputs": [
        {
          "output_type": "display_data",
          "data": {
            "application/vnd.jupyter.widget-view+json": {
              "model_id": "3d42f0b413c44feab2d5609150788b3e",
              "version_minor": 0,
              "version_major": 2
            },
            "text/plain": [
              "  0%|          | 0/150 [00:00<?, ?it/s]"
            ]
          },
          "metadata": {}
        },
        {
          "output_type": "display_data",
          "data": {
            "application/vnd.jupyter.widget-view+json": {
              "model_id": "be16bbea56974c19af41dcb4605761be",
              "version_minor": 0,
              "version_major": 2
            },
            "text/plain": [
              "  0%|          | 0/150 [00:00<?, ?it/s]"
            ]
          },
          "metadata": {}
        },
        {
          "output_type": "display_data",
          "data": {
            "application/vnd.jupyter.widget-view+json": {
              "model_id": "2fec168522b6403881e19c6ebf9019a8",
              "version_minor": 0,
              "version_major": 2
            },
            "text/plain": [
              "  0%|          | 0/150 [00:00<?, ?it/s]"
            ]
          },
          "metadata": {}
        },
        {
          "output_type": "display_data",
          "data": {
            "application/vnd.jupyter.widget-view+json": {
              "model_id": "3e6154011ac445bcbc1143a5355c1970",
              "version_minor": 0,
              "version_major": 2
            },
            "text/plain": [
              "  0%|          | 0/150 [00:00<?, ?it/s]"
            ]
          },
          "metadata": {}
        }
      ]
    },
    {
      "cell_type": "code",
      "metadata": {
        "id": "CGDN3e2SX9H7"
      },
      "source": [
        "lvec = load_vec('./projected_w.npz')\n",
        "img = render_gan(G, device, lvec)\n",
        "display_lowres(img)"
      ],
      "execution_count": null,
      "outputs": []
    },
    {
      "cell_type": "code",
      "metadata": {
        "id": "9nMegOhRtpnX"
      },
      "source": [
        "SOURCE_NAME = \"source-target.png\"\n",
        "OUT = \"./out/projected_img/\"\n",
        "\n",
        "cmd = f\"python ./projector.py --seed 1 --save-video 0 --num-steps 1000 --outdir={OUT} --target={SOURCE_NAME} --network={STYLEGAN2_PKL_URL}\"\n",
        "!{cmd}"
      ],
      "execution_count": null,
      "outputs": []
    },
    {
      "cell_type": "code",
      "metadata": {
        "id": "CTiPS-Zu-ybP"
      },
      "source": [
        "import cv2\n",
        "import os\n",
        "from matplotlib import pyplot as plt\n",
        "\n",
        "img_gan_source = cv2.imread(os.path.join(OUT,'proj.png'))\n",
        "img = cv2.cvtColor(img_gan_source, cv2.COLOR_BGR2RGB)\n",
        "plt.imshow(img)\n",
        "plt.title('poster-gan')\n",
        "plt.show()"
      ],
      "execution_count": null,
      "outputs": []
    },
    {
      "cell_type": "markdown",
      "metadata": {
        "id": "WMcc1NQYueV4"
      },
      "source": [
        "# Generate NFT (Interpolation)\n",
        "The following code builds the latent_vectors and prints image for every seed in complete training_process"
      ]
    },
    {
      "cell_type": "markdown",
      "metadata": {
        "id": "Kwy37MNdc1O7"
      },
      "source": [
        "## Presettings for Interpolation"
      ]
    },
    {
      "cell_type": "code",
      "metadata": {
        "id": "fe2PyGjUczch"
      },
      "source": [
        "import os\n",
        "from pathlib import Path\n",
        "import random\n",
        "\n",
        "# To create a list of random integer values:\n",
        "NFT_SEEDS = random.sample(range(0, 999999), 30)\n",
        "\n",
        "# create a list of chosen integer values: \n",
        "#NFT_SEEDS = [1, 20, 400, 9]\n",
        "\n",
        "# presettings directory\n",
        "network_dir = \"./pretrained\"\n",
        "outdir = \"./out/generated-poster-nfts/\" # \"/\" nach Directory wichtig!\n",
        "print(f\"Outputdirectory: {outdir}\\nNetworkdirectory: {network_dir}\\nSEEDS: {NFT_SEEDS}\")\n",
        "\n",
        "# How many Seeds per PKL (training_step)?\n",
        "max_seed = 10"
      ],
      "execution_count": null,
      "outputs": []
    },
    {
      "cell_type": "markdown",
      "metadata": {
        "id": "cEEeZjiMSQuy"
      },
      "source": [
        "## Generate Interpolation from Images for chosen training_step\n",
        "\n",
        "The following code builds the interpolatio-video for every seeds\n"
      ]
    },
    {
      "cell_type": "code",
      "metadata": {
        "id": "LtLgfgjQSO0a",
        "outputId": "e0bf705e-38b0-4585-f3ea-d92e8e7df60a",
        "colab": {
          "base_uri": "https://localhost:8080/",
          "height": 245
        }
      },
      "source": [
        "grouped_nfts = NFT_SEEDS.copy()\n",
        "#For every network pkl in networkdir\n",
        "for file in os.listdir(network_dir):\n",
        "            if file.endswith(\".pkl\"):\n",
        "              #Go through every group in grouped list\n",
        "              for single_seed in grouped_nfts[:max_seed]:\n",
        "                pkl = os.path.join(network_dir, file)\n",
        "                pkl_name = Path(pkl).stem\n",
        "                cmd = f\"python ./generate.py --random_seed {single_seed} --outdir={outdir}seed-{single_seed}/{pkl_name} --network={pkl} --process=interpolation --interpolation=circularloop --diameter=800.00 --frames=240\"\n",
        "                print(cmd)\n",
        "                #!{cmd}\n",
        "                grouped_nfts.pop(0)\n",
        "\n",
        "print(grouped_nfts)\n"
      ],
      "execution_count": 1,
      "outputs": [
        {
          "output_type": "error",
          "ename": "NameError",
          "evalue": "ignored",
          "traceback": [
            "\u001b[0;31m---------------------------------------------------------------------------\u001b[0m",
            "\u001b[0;31mNameError\u001b[0m                                 Traceback (most recent call last)",
            "\u001b[0;32m<ipython-input-1-4a9e561bdf05>\u001b[0m in \u001b[0;36m<module>\u001b[0;34m()\u001b[0m\n\u001b[0;32m----> 1\u001b[0;31m \u001b[0mgrouped_nfts\u001b[0m \u001b[0;34m=\u001b[0m \u001b[0mNFT_SEEDS\u001b[0m\u001b[0;34m.\u001b[0m\u001b[0mcopy\u001b[0m\u001b[0;34m(\u001b[0m\u001b[0;34m)\u001b[0m\u001b[0;34m\u001b[0m\u001b[0;34m\u001b[0m\u001b[0m\n\u001b[0m\u001b[1;32m      2\u001b[0m \u001b[0;31m#For every network pkl in networkdir\u001b[0m\u001b[0;34m\u001b[0m\u001b[0;34m\u001b[0m\u001b[0;34m\u001b[0m\u001b[0m\n\u001b[1;32m      3\u001b[0m \u001b[0;32mfor\u001b[0m \u001b[0mfile\u001b[0m \u001b[0;32min\u001b[0m \u001b[0mos\u001b[0m\u001b[0;34m.\u001b[0m\u001b[0mlistdir\u001b[0m\u001b[0;34m(\u001b[0m\u001b[0mnetwork_dir\u001b[0m\u001b[0;34m)\u001b[0m\u001b[0;34m:\u001b[0m\u001b[0;34m\u001b[0m\u001b[0;34m\u001b[0m\u001b[0m\n\u001b[1;32m      4\u001b[0m             \u001b[0;32mif\u001b[0m \u001b[0mfile\u001b[0m\u001b[0;34m.\u001b[0m\u001b[0mendswith\u001b[0m\u001b[0;34m(\u001b[0m\u001b[0;34m\".pkl\"\u001b[0m\u001b[0;34m)\u001b[0m\u001b[0;34m:\u001b[0m\u001b[0;34m\u001b[0m\u001b[0;34m\u001b[0m\u001b[0m\n\u001b[1;32m      5\u001b[0m               \u001b[0;31m#Go through every group in grouped list\u001b[0m\u001b[0;34m\u001b[0m\u001b[0;34m\u001b[0m\u001b[0;34m\u001b[0m\u001b[0m\n",
            "\u001b[0;31mNameError\u001b[0m: name 'NFT_SEEDS' is not defined"
          ]
        }
      ]
    },
    {
      "cell_type": "markdown",
      "metadata": {
        "id": "qeZYEKrlfJYn"
      },
      "source": [
        "# Download your Video\n",
        "\n",
        "If you made it through all of these steps, you are now ready to download your video."
      ]
    },
    {
      "cell_type": "code",
      "metadata": {
        "id": "moF7jia2fPv0"
      },
      "source": [
        "from google.colab import files\n",
        "files.download(\"/content/movie.mp4\") "
      ],
      "execution_count": null,
      "outputs": []
    },
    {
      "cell_type": "markdown",
      "metadata": {
        "id": "cbRC4hTl17k6"
      },
      "source": [
        "# Finetune an Image\n",
        "\n",
        "If you find a seed that you like, you can fine tune it by adjusting the latent vector directly.  First, choose the seed to finetune."
      ]
    },
    {
      "cell_type": "code",
      "metadata": {
        "id": "K2bYj-792AyB"
      },
      "source": [
        "START_SEED = 3172\n",
        "\n",
        "current = seed2vec(Gs, START_SEED)"
      ],
      "execution_count": null,
      "outputs": []
    },
    {
      "cell_type": "markdown",
      "metadata": {
        "id": "xD_ifZRr2HcY"
      },
      "source": [
        "Next, generate display the current vector. You will return to this point for each iteration of the finetuning."
      ]
    },
    {
      "cell_type": "code",
      "metadata": {
        "id": "o9mM0KLw2NEz"
      },
      "source": [
        "init_random_state(Gs, 10)\n",
        "img = generate_image(Gs, current, 1.0)\n",
        "\n",
        "SCALE = 0.5\n",
        "display_image(img, SCALE)"
      ],
      "execution_count": null,
      "outputs": []
    },
    {
      "cell_type": "markdown",
      "metadata": {
        "id": "UhNUirUv2Q6n"
      },
      "source": [
        "Choose an explore size, this is the number of differnt potential images that will be chosen by moving in 10 different directions.  Run this code once initially, and then again anytime you wish to change the 10 directions you are exploring.  You might change the 10 directions if you are no longer seeing improvements."
      ]
    },
    {
      "cell_type": "code",
      "metadata": {
        "id": "zzvUEYd02VSj"
      },
      "source": [
        "EXPLORE_SIZE = 25\n",
        "\n",
        "explore = []\n",
        "for i in range(EXPLORE_SIZE):\n",
        "  explore.append( np.random.rand(1, 512) - 0.5 )"
      ],
      "execution_count": null,
      "outputs": []
    },
    {
      "cell_type": "code",
      "metadata": {
        "id": "6SdokOas2YF1"
      },
      "source": [
        "# Choose the direction to move.  Choose -1 for the initial iteration.   \n",
        "MOVE_DIRECTION = -1\n",
        "SCALE = 0.5\n",
        "\n",
        "if MOVE_DIRECTION >=0:\n",
        "  current = current + explore[MOVE_DIRECTION]\n",
        "\n",
        "for i, mv in enumerate(explore):\n",
        "  print(f\"Direction {i}\")\n",
        "  init_random_state(Gs, 10)\n",
        "  z = current + mv\n",
        "  img = generate_image(Gs, z, 1.0)\n",
        "  display_image(img, SCALE)"
      ],
      "execution_count": null,
      "outputs": []
    }
  ]
}